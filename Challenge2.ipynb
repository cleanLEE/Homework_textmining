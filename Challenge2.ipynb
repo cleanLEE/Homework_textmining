{
  "cells": [
    {
      "cell_type": "markdown",
      "metadata": {
        "id": "view-in-github",
        "colab_type": "text"
      },
      "source": [
        "<a href=\"https://colab.research.google.com/github/cleanLEE/Homework_textmining/blob/main/Challenge2.ipynb\" target=\"_parent\"><img src=\"https://colab.research.google.com/assets/colab-badge.svg\" alt=\"Open In Colab\"/></a>"
      ]
    },
    {
      "cell_type": "markdown",
      "metadata": {
        "id": "WamTVTHew9Oh"
      },
      "source": [
        "# 도전 문제\n",
        "- 도전문제의 목적은 ***1) 코드에 익숙해지는 것, 2) 앞으로 배울 내용에 쓰기 위함***입니다.\n",
        "- 도전 문제에서는 해당 내용들을 숙지한다면 추후 프로젝트에도 넓게 쓰일 수 있는 내용들을 다룰 것이며,\n",
        "- 이러한 내용들 말고도 기초적인 코딩테스트를 경험할 수 있는 간단한 문제들 위주로 출제할 예정입니다."
      ]
    },
    {
      "cell_type": "markdown",
      "metadata": {
        "id": "DYKNN3t1w9Ol"
      },
      "source": [
        "## 문제 1. 문자열 나누기"
      ]
    },
    {
      "cell_type": "markdown",
      "metadata": {
        "id": "wsgLbRSaw9Om"
      },
      "source": [
        "### 1-1.\n",
        "\n",
        "> 문철은 회사에서 OCR 프로젝트를 진행하고 있다. 그는 명함에 담긴 전화번호들을 데이터로 변환하는 업무를 맡았다.  \n",
        "> 문철에게 주어진 과제는, OCR로 추출한 전화번호에 있는 하이픈(-)을 정리해서 저장하는 것이다.  \n",
        "> 주어진 전화번호에서 하이픈을 제거해서 저장해 보세요.  \n",
        "> Hint) **Google search keyword:** python 특정 문자 제거"
      ]
    },
    {
      "cell_type": "code",
      "execution_count": 3,
      "metadata": {
        "id": "px7Q2PVew9Om"
      },
      "outputs": [],
      "source": [
        "phone_number = \"010-1111-2222\""
      ]
    },
    {
      "cell_type": "code",
      "execution_count": 7,
      "metadata": {
        "colab": {
          "base_uri": "https://localhost:8080/",
          "height": 35
        },
        "id": "SzwWo5b7w9On",
        "outputId": "3e37589a-1d29-4c73-8971-53f1dc69a4d9"
      },
      "outputs": [
        {
          "output_type": "execute_result",
          "data": {
            "text/plain": [
              "'01011112222'"
            ],
            "application/vnd.google.colaboratory.intrinsic+json": {
              "type": "string"
            }
          },
          "metadata": {},
          "execution_count": 7
        }
      ],
      "source": [
        "# code here\n",
        "phone_number.replace(\"-\",\"\")"
      ]
    },
    {
      "cell_type": "markdown",
      "metadata": {
        "id": "cSP9L_NQw9Oo"
      },
      "source": [
        "### 1-2"
      ]
    },
    {
      "cell_type": "markdown",
      "metadata": {
        "id": "tkHgS185w9Oo"
      },
      "source": [
        "> 반복문을 활용하여 아래 세 개의 전화번호에서 하이픈을 제거한 다음 ***출력 및 저장*** 하는 코드를 작성하세요.  \n",
        "> Tip) 출력은 이번에 배운 format 함수를 활용해 보세요!  "
      ]
    },
    {
      "cell_type": "code",
      "execution_count": 32,
      "metadata": {
        "id": "_2f-LH96w9Op"
      },
      "outputs": [],
      "source": [
        "phone_book = ['010-1234-5678',\n",
        "             '010-9123-4567',\n",
        "             '010-8765-4321']"
      ]
    },
    {
      "cell_type": "code",
      "source": [
        "for phone_books in phone_book:\n",
        "    print(\"{} 처리 중...\".format(phone_books))\n",
        "    phone_bookss = phone_books.replace('-', '')\n",
        "    print(\"{} 변환 완료!\\n\".format(phone_bookss))\n"
      ],
      "metadata": {
        "colab": {
          "base_uri": "https://localhost:8080/"
        },
        "id": "GEF0dG8k0aCM",
        "outputId": "1f1f4d31-4af5-4d14-aa9c-e099b106482c"
      },
      "execution_count": 35,
      "outputs": [
        {
          "output_type": "stream",
          "name": "stdout",
          "text": [
            "010-1234-5678 처리 중...\n",
            "01012345678 변환 완료!\n",
            "\n",
            "010-9123-4567 처리 중...\n",
            "01091234567 변환 완료!\n",
            "\n",
            "010-8765-4321 처리 중...\n",
            "01087654321 변환 완료!\n",
            "\n"
          ]
        }
      ]
    },
    {
      "cell_type": "code",
      "execution_count": null,
      "metadata": {
        "id": "wF46vg6bw9Op",
        "outputId": "b9148c77-54be-48fe-85aa-5d142f65cbca"
      },
      "outputs": [
        {
          "name": "stdout",
          "output_type": "stream",
          "text": [
            "010-1234-5678 처리 중...\n",
            "01012345678 변환 완료!\n",
            "\n",
            "010-9123-4567 처리 중...\n",
            "01091234567 변환 완료!\n",
            "\n",
            "010-8765-4321 처리 중...\n",
            "01087654321 변환 완료!\n",
            "\n"
          ]
        }
      ],
      "source": [
        "# code here"
      ]
    },
    {
      "cell_type": "code",
      "execution_count": 8,
      "metadata": {
        "colab": {
          "base_uri": "https://localhost:8080/",
          "height": 184
        },
        "id": "gp2TcH7tw9Op",
        "outputId": "1a83d7cb-5247-4c14-ca02-975e18ba68dd"
      },
      "outputs": [
        {
          "output_type": "error",
          "ename": "NameError",
          "evalue": "ignored",
          "traceback": [
            "\u001b[0;31m---------------------------------------------------------------------------\u001b[0m",
            "\u001b[0;31mNameError\u001b[0m                                 Traceback (most recent call last)",
            "\u001b[0;32m<ipython-input-8-9e5c0dbe8459>\u001b[0m in \u001b[0;36m<cell line: 1>\u001b[0;34m()\u001b[0m\n\u001b[0;32m----> 1\u001b[0;31m \u001b[0mphone_book\u001b[0m\u001b[0;34m\u001b[0m\u001b[0;34m\u001b[0m\u001b[0m\n\u001b[0m",
            "\u001b[0;31mNameError\u001b[0m: name 'phone_book' is not defined"
          ]
        }
      ],
      "source": [
        "phone_book"
      ]
    },
    {
      "cell_type": "markdown",
      "metadata": {
        "id": "LUaxnqlow9Oq"
      },
      "source": [
        "## 문제 2. 문자열 나누기2"
      ]
    },
    {
      "cell_type": "markdown",
      "metadata": {
        "id": "W_n24epuw9Oq"
      },
      "source": [
        "> 영지는 파란학기 과제로 블로그의 글을 크롤링하여 분석하는 일을 하고 있다.    \n",
        "> 영지는 크롤링을 자동화하기 위해 수집한 URL의 글 번호를 차례로 탐색하는 작업을 수행해야 하려고 한다.  \n",
        "> 리스트로 저장된 **`urls`** 에서, 마지막 슬래쉬 다음에 위치한 **글의 번호만을 추출하여 출력**해보자.  \n",
        "> Hint) **Google search keyword:** python split"
      ]
    },
    {
      "cell_type": "code",
      "execution_count": 24,
      "metadata": {
        "id": "oelIRWRbw9Oq"
      },
      "outputs": [],
      "source": [
        "urls = ['http://challengeURL.kr/1',\n",
        " 'http://challengeURL.kr/4',\n",
        " 'http://challengeURL.kr/7',\n",
        " 'http://challengeURL.kr/11',\n",
        " 'http://challengeURL.kr/24',\n",
        " 'http://challengeURL.kr/32',\n",
        " 'http://challengeURL.kr/42',\n",
        " 'http://challengeURL.kr/61',\n",
        " 'http://challengeURL.kr/80',\n",
        " 'http://challengeURL.kr/99',\n",
        " 'http://challengeURL.kr/119',\n",
        " 'http://challengeURL.kr/123',\n",
        " 'http://challengeURL.kr/168',\n",
        " 'http://challengeURL.kr/197',\n",
        " 'http://challengeURL.kr/210',\n",
        " 'http://challengeURL.kr/255',\n",
        " 'http://challengeURL.kr/289',\n",
        " 'http://challengeURL.kr/324',\n",
        " 'http://challengeURL.kr/359',\n",
        " 'http://challengeURL.kr/400',\n",
        " 'http://challengeURL.kr/441',\n",
        " 'http://challengeURL.kr/484',\n",
        " 'http://challengeURL.kr/521',\n",
        " 'http://challengeURL.kr/543',\n",
        " 'http://challengeURL.kr/625',\n",
        " 'http://challengeURL.kr/676',\n",
        " 'http://challengeURL.kr/728',\n",
        " 'http://challengeURL.kr/784',\n",
        " 'http://challengeURL.kr/842',\n",
        " 'http://challengeURL.kr/901',\n",
        " 'http://challengeURL.kr/969',\n",
        " 'http://challengeURL.kr/1001',\n",
        " 'http://challengeURL.kr/1089',\n",
        " 'http://challengeURL.kr/1156',\n",
        " 'http://challengeURL.kr/1225',\n",
        " 'http://challengeURL.kr/1246',\n",
        " 'http://challengeURL.kr/1369',\n",
        " 'http://challengeURL.kr/1444',\n",
        " 'http://challengeURL.kr/1521',\n",
        " 'http://challengeURL.kr/1608',\n",
        " 'http://challengeURL.kr/1681',\n",
        " 'http://challengeURL.kr/1764',\n",
        " 'http://challengeURL.kr/1849',\n",
        " 'http://challengeURL.kr/1936',\n",
        " 'http://challengeURL.kr/2025',\n",
        " 'http://challengeURL.kr/2116',\n",
        " 'http://challengeURL.kr/2209',\n",
        " 'http://challengeURL.kr/2304',\n",
        " 'http://challengeURL.kr/2401',\n",
        " 'http://challengeURL.kr/2500']"
      ]
    },
    {
      "cell_type": "code",
      "execution_count": null,
      "metadata": {
        "id": "nG3JAmrfw9Or",
        "outputId": "a79c384d-2573-45b5-83ae-72b2dcd3a2d2"
      },
      "outputs": [
        {
          "name": "stdout",
          "output_type": "stream",
          "text": [
            "1 4 7 11 24 32 42 61 80 99 119 123 168 197 210 255 289 324 359 400 441 484 521 543 625 676 728 784 842 901 969 1001 1089 1156 1225 1246 1369 1444 1521 1608 1681 1764 1849 1936 2025 2116 2209 2304 2401 2500 "
          ]
        }
      ],
      "source": [
        "# code here"
      ]
    },
    {
      "cell_type": "code",
      "source": [
        "for url in urls:\n",
        "    url.split('/')[-1]\n",
        "    print(url)"
      ],
      "metadata": {
        "colab": {
          "base_uri": "https://localhost:8080/"
        },
        "id": "Byoz2gT_73dO",
        "outputId": "1b2b662d-adc0-4658-aaa1-88f5cb9c5520"
      },
      "execution_count": 44,
      "outputs": [
        {
          "output_type": "stream",
          "name": "stdout",
          "text": [
            "http://challengeURL.kr/1\n",
            "http://challengeURL.kr/4\n",
            "http://challengeURL.kr/7\n",
            "http://challengeURL.kr/11\n",
            "http://challengeURL.kr/24\n",
            "http://challengeURL.kr/32\n",
            "http://challengeURL.kr/42\n",
            "http://challengeURL.kr/61\n",
            "http://challengeURL.kr/80\n",
            "http://challengeURL.kr/99\n",
            "http://challengeURL.kr/119\n",
            "http://challengeURL.kr/123\n",
            "http://challengeURL.kr/168\n",
            "http://challengeURL.kr/197\n",
            "http://challengeURL.kr/210\n",
            "http://challengeURL.kr/255\n",
            "http://challengeURL.kr/289\n",
            "http://challengeURL.kr/324\n",
            "http://challengeURL.kr/359\n",
            "http://challengeURL.kr/400\n",
            "http://challengeURL.kr/441\n",
            "http://challengeURL.kr/484\n",
            "http://challengeURL.kr/521\n",
            "http://challengeURL.kr/543\n",
            "http://challengeURL.kr/625\n",
            "http://challengeURL.kr/676\n",
            "http://challengeURL.kr/728\n",
            "http://challengeURL.kr/784\n",
            "http://challengeURL.kr/842\n",
            "http://challengeURL.kr/901\n",
            "http://challengeURL.kr/969\n",
            "http://challengeURL.kr/1001\n",
            "http://challengeURL.kr/1089\n",
            "http://challengeURL.kr/1156\n",
            "http://challengeURL.kr/1225\n",
            "http://challengeURL.kr/1246\n",
            "http://challengeURL.kr/1369\n",
            "http://challengeURL.kr/1444\n",
            "http://challengeURL.kr/1521\n",
            "http://challengeURL.kr/1608\n",
            "http://challengeURL.kr/1681\n",
            "http://challengeURL.kr/1764\n",
            "http://challengeURL.kr/1849\n",
            "http://challengeURL.kr/1936\n",
            "http://challengeURL.kr/2025\n",
            "http://challengeURL.kr/2116\n",
            "http://challengeURL.kr/2209\n",
            "http://challengeURL.kr/2304\n",
            "http://challengeURL.kr/2401\n",
            "http://challengeURL.kr/2500\n"
          ]
        }
      ]
    },
    {
      "cell_type": "code",
      "source": [
        "number_only = [url.split('/')[-1]\n",
        "                for url in urls]\n",
        "for numbers_only in number_only:\n",
        "    print(numbers_only)"
      ],
      "metadata": {
        "colab": {
          "base_uri": "https://localhost:8080/"
        },
        "id": "kDj8EObT3zre",
        "outputId": "43856fdb-e24d-4280-d651-e4d20b9a4964"
      },
      "execution_count": 43,
      "outputs": [
        {
          "output_type": "stream",
          "name": "stdout",
          "text": [
            "1\n",
            "4\n",
            "7\n",
            "11\n",
            "24\n",
            "32\n",
            "42\n",
            "61\n",
            "80\n",
            "99\n",
            "119\n",
            "123\n",
            "168\n",
            "197\n",
            "210\n",
            "255\n",
            "289\n",
            "324\n",
            "359\n",
            "400\n",
            "441\n",
            "484\n",
            "521\n",
            "543\n",
            "625\n",
            "676\n",
            "728\n",
            "784\n",
            "842\n",
            "901\n",
            "969\n",
            "1001\n",
            "1089\n",
            "1156\n",
            "1225\n",
            "1246\n",
            "1369\n",
            "1444\n",
            "1521\n",
            "1608\n",
            "1681\n",
            "1764\n",
            "1849\n",
            "1936\n",
            "2025\n",
            "2116\n",
            "2209\n",
            "2304\n",
            "2401\n",
            "2500\n"
          ]
        }
      ]
    },
    {
      "cell_type": "code",
      "source": [],
      "metadata": {
        "id": "HE_ygSor7iOs"
      },
      "execution_count": null,
      "outputs": []
    }
  ],
  "metadata": {
    "kernelspec": {
      "display_name": "Python 3 (ipykernel)",
      "language": "python",
      "name": "python3"
    },
    "language_info": {
      "codemirror_mode": {
        "name": "ipython",
        "version": 3
      },
      "file_extension": ".py",
      "mimetype": "text/x-python",
      "name": "python",
      "nbconvert_exporter": "python",
      "pygments_lexer": "ipython3",
      "version": "3.9.7"
    },
    "colab": {
      "provenance": [],
      "include_colab_link": true
    }
  },
  "nbformat": 4,
  "nbformat_minor": 0
}